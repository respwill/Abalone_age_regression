{
  "nbformat": 4,
  "nbformat_minor": 0,
  "metadata": {
    "colab": {
      "provenance": [],
      "authorship_tag": "ABX9TyP2NRKHoe43lI+kyflPMu9z",
      "include_colab_link": true
    },
    "kernelspec": {
      "name": "python3",
      "display_name": "Python 3"
    },
    "language_info": {
      "name": "python"
    }
  },
  "cells": [
    {
      "cell_type": "markdown",
      "metadata": {
        "id": "view-in-github",
        "colab_type": "text"
      },
      "source": [
        "<a href=\"https://colab.research.google.com/github/respwill/Abalone_age_regression/blob/main/Final_report.ipynb\" target=\"_parent\"><img src=\"https://colab.research.google.com/assets/colab-badge.svg\" alt=\"Open In Colab\"/></a>"
      ]
    },
    {
      "cell_type": "markdown",
      "source": [
        "# Objective summary\n",
        "I got the data from below source.  \n",
        "[Data source](https://archive.ics.uci.edu/dataset/1/abalone)  \n",
        "\n",
        "It is a tabular data that includes abalone object as each records.  \n",
        "It has features such as length, diameter, height, some kind of weight, and ring.  \n",
        "\n",
        "**The purpose of this project** is to **predict the number of rings** of each abalone using other features.  \n",
        "\n",
        "I used some machine learning model for the prediction."
      ],
      "metadata": {
        "id": "mmDXIzpHP7oL"
      }
    },
    {
      "cell_type": "markdown",
      "source": [
        "# EDA process\n",
        "For the EDA process that I performed please refer to below link of my git repository.  \n",
        "**Summary**\n",
        "- Statistical analysis\n",
        "- Remove outliers from dataset for both feature side and label side.  \n",
        "- Feature engineering\n",
        "\n",
        "[EDA notebook link](https://github.com/respwill/Abalone_age_regression/blob/main/Abalone_EDA.ipynb)"
      ],
      "metadata": {
        "id": "JAkbEgMSP3EO"
      }
    },
    {
      "cell_type": "markdown",
      "source": [
        "# Model training\n",
        "I set baseline and do some feature and model selection.  \n",
        "And with the feature that I engineered traned some models.  \n",
        "\n",
        "For the model training process that I performed please refer to below link of my git repository.  \n",
        "**Summary**\n",
        "- Setting baseline\n",
        "- Feature selection\n",
        "- Model selection\n",
        "- Model hyper-parameter tuning\n",
        "- Model training\n",
        "- Evaluation\n",
        "- Conclusion & discussion\n",
        "\n",
        "[Model train notebook link](https://github.com/respwill/Abalone_age_regression/blob/main/Model_train.ipynb)"
      ],
      "metadata": {
        "id": "h7UHR8XpGAjG"
      }
    },
    {
      "cell_type": "markdown",
      "source": [
        "# Result summary\n",
        "\n",
        "Results from conbination that I tested after optimized the model.  \n",
        "My baseline is RMSLE point of 0.186.  \n",
        "It is result of linear regression model with given features.  \n",
        "My models did better prediction than this.  \n",
        "However since I couldn't find feature that is helpful to predict rings more than 14, the maximum result was 0.150.  \n",
        "\n",
        "\n",
        "|Model                    |Dataselection|RMSE |RMSLE|Iteration|\n",
        "|-------------------------|-------------|-----|-----|---------|\n",
        "|Baseline                 | None        |2.225|0.186|.  |\n",
        "|SVR                      | None        |1.657|0.156|300|\n",
        "|GradientBoostingRegressor| RFE(SVR)    |1.648|0.155|300|\n",
        "|SVR                      | RFE         |1.640|0.152|300|\n",
        "|GradientBoostingRegressor| RFE(GB)     |1.626|0.150|300|\n",
        "|GradientBoostingRegressor| K best      |1.621|0.150|300|"
      ],
      "metadata": {
        "id": "aXyWDLokHNxg"
      }
    }
  ]
}